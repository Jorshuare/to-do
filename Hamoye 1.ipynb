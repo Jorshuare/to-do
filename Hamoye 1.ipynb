{
 "cells": [
  {
   "cell_type": "code",
   "execution_count": 2,
   "id": "88034176",
   "metadata": {},
   "outputs": [
    {
     "name": "stdout",
     "output_type": "stream",
     "text": [
      "Hello World\n"
     ]
    }
   ],
   "source": [
    "print(\"Hello World\")"
   ]
  },
  {
   "cell_type": "code",
   "execution_count": 3,
   "id": "9981556a",
   "metadata": {},
   "outputs": [
    {
     "name": "stdout",
     "output_type": "stream",
     "text": [
      "Welcome to Pandas\n"
     ]
    }
   ],
   "source": [
    "print(\"Welcome to Pandas\")"
   ]
  },
  {
   "cell_type": "code",
   "execution_count": 4,
   "id": "163d2642",
   "metadata": {},
   "outputs": [
    {
     "name": "stdout",
     "output_type": "stream",
     "text": [
      "Welcome to a new day\n"
     ]
    }
   ],
   "source": [
    "print('Welcome to a new day')"
   ]
  },
  {
   "cell_type": "code",
   "execution_count": 24,
   "id": "85a15072",
   "metadata": {},
   "outputs": [
    {
     "name": "stdout",
     "output_type": "stream",
     "text": [
      "Two numbers here can't give the target\n"
     ]
    }
   ],
   "source": [
    "nums = [2, 7, 11, 15]\n",
    "target = 9\n",
    "\n",
    "def two_sum(numbers, target):\n",
    "    check = []\n",
    "    store = []\n",
    "    for i in numbers:\n",
    "        if i < target:\n",
    "            check.append(i)\n",
    "            store.append(numbers.index(i))\n",
    "            \n",
    "    if sum(check) == target:\n",
    "        return store\n",
    "    else:\n",
    "        return \"Two numbers here can't give the target\"\n",
    "    \n",
    "\n",
    "result = two_sum(nums, target)\n",
    "\n",
    "# The elements at indices 0 and 1 (2 and 7) add up to 9.\n",
    "# So, the function should return [0, 1].\n",
    "print(result)  # Output: [0, 1]\n"
   ]
  },
  {
   "cell_type": "code",
   "execution_count": 19,
   "id": "79a8a07c",
   "metadata": {},
   "outputs": [
    {
     "data": {
      "text/plain": [
       "0"
      ]
     },
     "execution_count": 19,
     "metadata": {},
     "output_type": "execute_result"
    }
   ],
   "source": [
    "number = [2, 7, 11, 15]\n",
    "number.index(2)"
   ]
  },
  {
   "cell_type": "code",
   "execution_count": 27,
   "id": "c5e0c7d8",
   "metadata": {},
   "outputs": [
    {
     "name": "stdout",
     "output_type": "stream",
     "text": [
      "2\n",
      "7\n",
      "11\n",
      "15\n"
     ]
    }
   ],
   "source": [
    "nums = [2, 7, 11, 15]\n",
    "target = 18\n",
    "\n",
    "def two_sum(numbers, target):\n",
    "    store = []\n",
    "    for i in numbers:\n",
    "        if i < target:\n",
    "            print(i)\n",
    "    \n",
    "\n",
    "two_sum(nums, target)\n",
    "# result = two_sum(nums, target)\n",
    "\n",
    "# # The elements at indices 0 and 1 (2 and 7) add up to 9.\n",
    "# # So, the function should return [0, 1].\n",
    "# print(result)  # Output: [0, 1]"
   ]
  },
  {
   "cell_type": "code",
   "execution_count": 42,
   "id": "c95e5064",
   "metadata": {},
   "outputs": [
    {
     "name": "stdout",
     "output_type": "stream",
     "text": [
      "[16]\n",
      "[11]\n",
      "[7]\n",
      "[3]\n"
     ]
    }
   ],
   "source": [
    "def two_sum(numbers, target):\n",
    "    num_to_index = {}  # A dictionary to store the mapping of numbers to their indices\n",
    "    \n",
    "    for i, num in enumerate(numbers):\n",
    "        add_up = []\n",
    "        complement = target - num  # Calculate the complement needed to reach the target\n",
    "        add_up.append(complement)\n",
    "        print(add_up)\n",
    "        \n",
    "#         # Check if the complement is in the dictionary (i.e., we've seen it before)\n",
    "#         if complement in num_to_index:\n",
    "#             # Return the indices of the two numbers that add up to the target\n",
    "#             return [num_to_index[complement], i]\n",
    "        \n",
    "#         # Otherwise, add the current number to the dictionary with its index\n",
    "#         num_to_index[num] = i\n",
    "    \n",
    "#     # If no solution is found, return an appropriate message\n",
    "#     return \"Two numbers here can't give the target\"\n",
    "\n",
    "# nums = [2, 7, 11, 15]\n",
    "# target = 9\n",
    "\n",
    "# result = two_sum(nums, target)\n",
    "\n",
    "# # The elements at indices 0 and 1 (2 and 7) add up to 9.\n",
    "# # So, the function should return [0, 1].\n",
    "# print(result)  # Output: [0, 1]\n",
    "\n",
    "\n",
    "two_sum(nums, target)"
   ]
  },
  {
   "cell_type": "code",
   "execution_count": 37,
   "id": "81eed040",
   "metadata": {},
   "outputs": [
    {
     "name": "stdout",
     "output_type": "stream",
     "text": [
      "<class 'enumerate'>\n",
      "{0: 2, 1: 7, 2: 11, 3: 15}\n"
     ]
    }
   ],
   "source": [
    "name = enumerate(nums)\n",
    "\n",
    "print(type(name))\n",
    "print(dict(name))"
   ]
  },
  {
   "cell_type": "code",
   "execution_count": 11,
   "id": "cb7ccf8c",
   "metadata": {},
   "outputs": [
    {
     "name": "stdout",
     "output_type": "stream",
     "text": [
      "!dlroW ,olleH\n",
      "None\n"
     ]
    }
   ],
   "source": [
    "def reverse_string(string):\n",
    "    new = \"\"\n",
    "    \n",
    "    store = [i for i in string]\n",
    "    j = len(store)-1\n",
    "    while j >= 0:\n",
    "        new += store[j]\n",
    "        j -= 1\n",
    "    print(new)\n",
    "\n",
    "reversed_string = reverse_string(input_string)\n",
    "print(reversed_string)  # Output: \"!dlroW ,olleH\""
   ]
  },
  {
   "cell_type": "code",
   "execution_count": 17,
   "id": "d00800fa",
   "metadata": {},
   "outputs": [
    {
     "name": "stdout",
     "output_type": "stream",
     "text": [
      "auhsoJ\n"
     ]
    }
   ],
   "source": [
    "name = \"Joshua\"\n",
    "print(name[::-1])"
   ]
  },
  {
   "cell_type": "code",
   "execution_count": null,
   "id": "003dab32",
   "metadata": {},
   "outputs": [],
   "source": []
  }
 ],
 "metadata": {
  "kernelspec": {
   "display_name": "Python 3 (ipykernel)",
   "language": "python",
   "name": "python3"
  },
  "language_info": {
   "codemirror_mode": {
    "name": "ipython",
    "version": 3
   },
   "file_extension": ".py",
   "mimetype": "text/x-python",
   "name": "python",
   "nbconvert_exporter": "python",
   "pygments_lexer": "ipython3",
   "version": "3.10.9"
  }
 },
 "nbformat": 4,
 "nbformat_minor": 5
}
