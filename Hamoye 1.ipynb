{
 "cells": [
  {
   "cell_type": "code",
   "execution_count": 2,
   "id": "88034176",
   "metadata": {},
   "outputs": [
    {
     "name": "stdout",
     "output_type": "stream",
     "text": [
      "Hello World\n"
     ]
    }
   ],
   "source": [
    "print(\"Hello World\")"
   ]
  },
  {
   "cell_type": "code",
   "execution_count": 3,
   "id": "9981556a",
   "metadata": {},
   "outputs": [
    {
     "name": "stdout",
     "output_type": "stream",
     "text": [
      "Welcome to Pandas\n"
     ]
    }
   ],
   "source": [
    "print(\"Welcome to Pandas\")"
   ]
  },
  {
   "cell_type": "code",
   "execution_count": 4,
   "id": "163d2642",
   "metadata": {},
   "outputs": [
    {
     "name": "stdout",
     "output_type": "stream",
     "text": [
      "Welcome to a new day\n"
     ]
    }
   ],
   "source": [
    "print('Welcome to a new day')"
   ]
  },
  {
   "cell_type": "code",
   "execution_count": 24,
   "id": "85a15072",
   "metadata": {},
   "outputs": [
    {
     "name": "stdout",
     "output_type": "stream",
     "text": [
      "Two numbers here can't give the target\n"
     ]
    }
   ],
   "source": [
    "nums = [2, 7, 11, 15]\n",
    "target = 9\n",
    "\n",
    "def two_sum(numbers, target):\n",
    "    check = []\n",
    "    store = []\n",
    "    for i in numbers:\n",
    "        if i < target:\n",
    "            check.append(i)\n",
    "            store.append(numbers.index(i))\n",
    "            \n",
    "    if sum(check) == target:\n",
    "        return store\n",
    "    else:\n",
    "        return \"Two numbers here can't give the target\"\n",
    "    \n",
    "\n",
    "result = two_sum(nums, target)\n",
    "\n",
    "# The elements at indices 0 and 1 (2 and 7) add up to 9.\n",
    "# So, the function should return [0, 1].\n",
    "print(result)  # Output: [0, 1]\n"
   ]
  },
  {
   "cell_type": "code",
   "execution_count": 19,
   "id": "79a8a07c",
   "metadata": {},
   "outputs": [
    {
     "data": {
      "text/plain": [
       "0"
      ]
     },
     "execution_count": 19,
     "metadata": {},
     "output_type": "execute_result"
    }
   ],
   "source": [
    "number = [2, 7, 11, 15]\n",
    "number.index(2)"
   ]
  },
  {
   "cell_type": "code",
   "execution_count": 27,
   "id": "c5e0c7d8",
   "metadata": {},
   "outputs": [
    {
     "name": "stdout",
     "output_type": "stream",
     "text": [
      "2\n",
      "7\n",
      "11\n",
      "15\n"
     ]
    }
   ],
   "source": [
    "nums = [2, 7, 11, 15]\n",
    "target = 18\n",
    "\n",
    "def two_sum(numbers, target):\n",
    "    store = []\n",
    "    for i in numbers:\n",
    "        if i < target:\n",
    "            print(i)\n",
    "    \n",
    "\n",
    "two_sum(nums, target)\n",
    "# result = two_sum(nums, target)\n",
    "\n",
    "# # The elements at indices 0 and 1 (2 and 7) add up to 9.\n",
    "# # So, the function should return [0, 1].\n",
    "# print(result)  # Output: [0, 1]"
   ]
  },
  {
   "cell_type": "code",
   "execution_count": 42,
   "id": "c95e5064",
   "metadata": {},
   "outputs": [
    {
     "name": "stdout",
     "output_type": "stream",
     "text": [
      "[16]\n",
      "[11]\n",
      "[7]\n",
      "[3]\n"
     ]
    }
   ],
   "source": [
    "def two_sum(numbers, target):\n",
    "    num_to_index = {}  # A dictionary to store the mapping of numbers to their indices\n",
    "    \n",
    "    for i, num in enumerate(numbers):\n",
    "        add_up = []\n",
    "        complement = target - num  # Calculate the complement needed to reach the target\n",
    "        add_up.append(complement)\n",
    "        print(add_up)\n",
    "        \n",
    "#         # Check if the complement is in the dictionary (i.e., we've seen it before)\n",
    "#         if complement in num_to_index:\n",
    "#             # Return the indices of the two numbers that add up to the target\n",
    "#             return [num_to_index[complement], i]\n",
    "        \n",
    "#         # Otherwise, add the current number to the dictionary with its index\n",
    "#         num_to_index[num] = i\n",
    "    \n",
    "#     # If no solution is found, return an appropriate message\n",
    "#     return \"Two numbers here can't give the target\"\n",
    "\n",
    "# nums = [2, 7, 11, 15]\n",
    "# target = 9\n",
    "\n",
    "# result = two_sum(nums, target)\n",
    "\n",
    "# # The elements at indices 0 and 1 (2 and 7) add up to 9.\n",
    "# # So, the function should return [0, 1].\n",
    "# print(result)  # Output: [0, 1]\n",
    "\n",
    "\n",
    "two_sum(nums, target)"
   ]
  },
  {
   "cell_type": "code",
   "execution_count": 37,
   "id": "81eed040",
   "metadata": {},
   "outputs": [
    {
     "name": "stdout",
     "output_type": "stream",
     "text": [
      "<class 'enumerate'>\n",
      "{0: 2, 1: 7, 2: 11, 3: 15}\n"
     ]
    }
   ],
   "source": [
    "name = enumerate(nums)\n",
    "\n",
    "print(type(name))\n",
    "print(dict(name))"
   ]
  },
  {
   "cell_type": "code",
   "execution_count": 11,
   "id": "cb7ccf8c",
   "metadata": {},
   "outputs": [
    {
     "name": "stdout",
     "output_type": "stream",
     "text": [
      "!dlroW ,olleH\n",
      "None\n"
     ]
    }
   ],
   "source": [
    "def reverse_string(string):\n",
    "    new = \"\"\n",
    "    \n",
    "    store = [i for i in string]\n",
    "    j = len(store)-1\n",
    "    while j >= 0:\n",
    "        new += store[j]\n",
    "        j -= 1\n",
    "    print(new)\n",
    "\n",
    "reversed_string = reverse_string(input_string)\n",
    "print(reversed_string)  # Output: \"!dlroW ,olleH\""
   ]
  },
  {
   "cell_type": "code",
   "execution_count": 17,
   "id": "d00800fa",
   "metadata": {},
   "outputs": [
    {
     "name": "stdout",
     "output_type": "stream",
     "text": [
      "auhsoJ\n"
     ]
    }
   ],
   "source": [
    "name = \"Joshua\"\n",
    "print(name[::-1])"
   ]
  },
  {
   "cell_type": "code",
   "execution_count": 1,
   "id": "003dab32",
   "metadata": {},
   "outputs": [
    {
     "name": "stdout",
     "output_type": "stream",
     "text": [
      "Hello world\n"
     ]
    }
   ],
   "source": [
    "print(\"Hello world\")"
   ]
  },
  {
   "cell_type": "code",
   "execution_count": 2,
   "id": "28816dec",
   "metadata": {},
   "outputs": [
    {
     "name": "stdout",
     "output_type": "stream",
     "text": [
      "('Hello', 'World', 'Welcome', 'To', 'Pandas')\n"
     ]
    }
   ],
   "source": [
    "def print_argument(*args):\n",
    "    print(args)\n",
    "\n",
    "print_argument(\"Hello\", \"World\", \"Welcome\", \"To\", \"Pandas\")"
   ]
  },
  {
   "cell_type": "code",
   "execution_count": 3,
   "id": "2596913b",
   "metadata": {},
   "outputs": [
    {
     "ename": "ModuleNotFoundError",
     "evalue": "No module named 'pandas'",
     "output_type": "error",
     "traceback": [
      "\u001b[0;31m---------------------------------------------------------------------------\u001b[0m",
      "\u001b[0;31mModuleNotFoundError\u001b[0m                       Traceback (most recent call last)",
      "Cell \u001b[0;32mIn[3], line 1\u001b[0m\n\u001b[0;32m----> 1\u001b[0m \u001b[39mimport\u001b[39;00m \u001b[39mpandas\u001b[39;00m \u001b[39mas\u001b[39;00m \u001b[39mpd\u001b[39;00m\n\u001b[1;32m      2\u001b[0m \u001b[39mimport\u001b[39;00m \u001b[39mmatplotlib\u001b[39;00m\u001b[39m.\u001b[39;00m\u001b[39mpyplot\u001b[39;00m \u001b[39mas\u001b[39;00m \u001b[39mplt\u001b[39;00m\n",
      "\u001b[0;31mModuleNotFoundError\u001b[0m: No module named 'pandas'"
     ]
    }
   ],
   "source": [
    "import pandas as pd\n",
    "import matplotlib.pyplot as plt"
   ]
  },
  {
   "cell_type": "code",
   "execution_count": 4,
   "id": "058d7eac",
   "metadata": {},
   "outputs": [
    {
     "name": "stdout",
     "output_type": "stream",
     "text": [
      "Collecting pandas\n",
      "  Downloading pandas-2.1.0-cp311-cp311-macosx_10_9_x86_64.whl (12.0 MB)\n",
      "\u001b[2K     \u001b[90m━━━━━━━━━━━━━━━━━━━━━━━━━━━━━━━━━━━━━━━\u001b[0m \u001b[32m12.0/12.0 MB\u001b[0m \u001b[31m687.4 kB/s\u001b[0m eta \u001b[36m0:00:00\u001b[0m00:01\u001b[0m00:01\u001b[0m\n",
      "\u001b[?25hCollecting numpy>=1.23.2\n",
      "  Downloading numpy-1.25.2-cp311-cp311-macosx_10_9_x86_64.whl (20.8 MB)\n",
      "\u001b[2K     \u001b[90m━━━━━━━━━━━━━━━━━━━━━━━━━━━━━━━━━━━━━━━\u001b[0m \u001b[32m20.8/20.8 MB\u001b[0m \u001b[31m415.3 kB/s\u001b[0m eta \u001b[36m0:00:00\u001b[0m00:01\u001b[0m00:02\u001b[0m\n",
      "\u001b[?25hRequirement already satisfied: python-dateutil>=2.8.2 in /Users/user/Library/Python/3.11/lib/python/site-packages (from pandas) (2.8.2)\n",
      "Collecting pytz>=2020.1\n",
      "  Downloading pytz-2023.3.post1-py2.py3-none-any.whl (502 kB)\n",
      "\u001b[2K     \u001b[90m━━━━━━━━━━━━━━━━━━━━━━━━━━━━━━━━━━━━━\u001b[0m \u001b[32m502.5/502.5 kB\u001b[0m \u001b[31m425.9 kB/s\u001b[0m eta \u001b[36m0:00:00\u001b[0ma \u001b[36m0:00:01\u001b[0m\n",
      "\u001b[?25hCollecting tzdata>=2022.1\n",
      "  Downloading tzdata-2023.3-py2.py3-none-any.whl (341 kB)\n",
      "\u001b[2K     \u001b[90m━━━━━━━━━━━━━━━━━━━━━━━━━━━━━━━━━━━━━\u001b[0m \u001b[32m341.8/341.8 kB\u001b[0m \u001b[31m265.8 kB/s\u001b[0m eta \u001b[36m0:00:00\u001b[0ma \u001b[36m0:00:01\u001b[0m\n",
      "\u001b[?25hRequirement already satisfied: six>=1.5 in /Users/user/Library/Python/3.11/lib/python/site-packages (from python-dateutil>=2.8.2->pandas) (1.16.0)\n",
      "Installing collected packages: pytz, tzdata, numpy, pandas\n",
      "\u001b[33m  WARNING: The scripts f2py, f2py3 and f2py3.11 are installed in '/Library/Frameworks/Python.framework/Versions/3.11/bin' which is not on PATH.\n",
      "  Consider adding this directory to PATH or, if you prefer to suppress this warning, use --no-warn-script-location.\u001b[0m\u001b[33m\n",
      "\u001b[0mSuccessfully installed numpy-1.25.2 pandas-2.1.0 pytz-2023.3.post1 tzdata-2023.3\n",
      "\n",
      "\u001b[1m[\u001b[0m\u001b[34;49mnotice\u001b[0m\u001b[1;39;49m]\u001b[0m\u001b[39;49m A new release of pip available: \u001b[0m\u001b[31;49m22.3.1\u001b[0m\u001b[39;49m -> \u001b[0m\u001b[32;49m23.2.1\u001b[0m\n",
      "\u001b[1m[\u001b[0m\u001b[34;49mnotice\u001b[0m\u001b[1;39;49m]\u001b[0m\u001b[39;49m To update, run: \u001b[0m\u001b[32;49mpython3 -m pip install --upgrade pip\u001b[0m\n",
      "Note: you may need to restart the kernel to use updated packages.\n"
     ]
    }
   ],
   "source": [
    "pip install pandas"
   ]
  },
  {
   "cell_type": "code",
   "execution_count": 5,
   "id": "a5287957",
   "metadata": {},
   "outputs": [],
   "source": [
    "import pandas as pd\n"
   ]
  },
  {
   "cell_type": "code",
   "execution_count": 6,
   "id": "d1673c22",
   "metadata": {},
   "outputs": [
    {
     "data": {
      "text/plain": [
       "'2.1.0'"
      ]
     },
     "execution_count": 6,
     "metadata": {},
     "output_type": "execute_result"
    }
   ],
   "source": [
    "pd.__version__"
   ]
  },
  {
   "cell_type": "code",
   "execution_count": null,
   "id": "59b95dbf",
   "metadata": {},
   "outputs": [],
   "source": []
  }
 ],
 "metadata": {
  "kernelspec": {
   "display_name": "Python 3 (ipykernel)",
   "language": "python",
   "name": "python3"
  },
  "language_info": {
   "codemirror_mode": {
    "name": "ipython",
    "version": 3
   },
   "file_extension": ".py",
   "mimetype": "text/x-python",
   "name": "python",
   "nbconvert_exporter": "python",
   "pygments_lexer": "ipython3",
   "version": "3.11.3"
  }
 },
 "nbformat": 4,
 "nbformat_minor": 5
}
